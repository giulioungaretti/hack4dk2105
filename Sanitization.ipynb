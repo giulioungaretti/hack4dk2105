{
 "cells": [
  {
   "cell_type": "code",
   "execution_count": 12,
   "metadata": {
    "collapsed": false
   },
   "outputs": [],
   "source": [
    "import requests\n",
    "import xml.etree.ElementTree as ET\n",
    "from string import digits\n",
    "from string import punctuation\n",
    "import string\n",
    "import re"
   ]
  },
  {
   "cell_type": "code",
   "execution_count": 2,
   "metadata": {
    "collapsed": false
   },
   "outputs": [],
   "source": [
    "url =\"http://api.larm.fm/v6/View/Get?view=Search&sort=PubStartDate%2Bdesc&filter=%28PubStartDate:[1982-05-01T00:00:00Z%20TO%201982-05-30T00:00:00Z]%20AND%20%28Type%3ASchedule%20OR%20Type%3AScheduleNote%29%29&pageIndex=0&pageSize=20&sessionGUID=049da351-b81f-424e-82c4-1162926d3688&format=json&userHTTPStatusCodes=False\""
   ]
  },
  {
   "cell_type": "code",
   "execution_count": 3,
   "metadata": {
    "collapsed": true
   },
   "outputs": [],
   "source": [
    "r = requests.get(url)"
   ]
  },
  {
   "cell_type": "code",
   "execution_count": 4,
   "metadata": {
    "collapsed": true
   },
   "outputs": [],
   "source": [
    "ids = [i['Id'] for i in  r.json()[\"ModuleResults\"][0][\"Results\"]]"
   ]
  },
  {
   "cell_type": "code",
   "execution_count": 5,
   "metadata": {
    "collapsed": false
   },
   "outputs": [],
   "source": [
    "# one id \n",
    "id = r.json()[\"ModuleResults\"][0][\"Results\"][2][\"Id\"]"
   ]
  },
  {
   "cell_type": "code",
   "execution_count": 6,
   "metadata": {
    "collapsed": false
   },
   "outputs": [],
   "source": [
    "query = \"http://api.larm.fm/v6/View/Get?view=Object&query={}&pageIndex=0&pageSize=20&sessionGUID=049da351-b81f-424e-82c4-1162926d3688&format=json&userHTTPStatusCodes=False\".format(id)"
   ]
  },
  {
   "cell_type": "code",
   "execution_count": 7,
   "metadata": {
    "collapsed": false
   },
   "outputs": [],
   "source": [
    "texts = [] \n",
    "for id in ids:\n",
    "    query = \"http://api.larm.fm/v6/View/Get?view=Object&query={}&pageIndex=0&pageSize=20&sessionGUID=049da351-b81f-424e-82c4-1162926d3688&format=json&userHTTPStatusCodes=False\".format(id)\n",
    "    r = requests.get(query)\n",
    "    metaxlm = r.json()['ModuleResults'][0][\"Results\"][0][\"Metadatas\"][0][\"MetadataXml\"].encode(encoding='UTF-8',errors='strict')\n",
    "    tree = ET.fromstring(metaxlm)\n",
    "    texts.append(tree.getchildren()[2].text)"
   ]
  },
  {
   "cell_type": "code",
   "execution_count": 8,
   "metadata": {
    "collapsed": false,
    "scrolled": false
   },
   "outputs": [],
   "source": [
    "metaxlm = r.json()['ModuleResults'][0][\"Results\"][0][\"Metadatas\"][0][\"MetadataXml\"].encode(encoding='UTF-8',errors='strict')"
   ]
  },
  {
   "cell_type": "code",
   "execution_count": 9,
   "metadata": {
    "collapsed": false
   },
   "outputs": [],
   "source": [
    "text = tree.getchildren()[2].text.encode(encoding='UTF-8',errors='strict')"
   ]
  },
  {
   "cell_type": "code",
   "execution_count": 1,
   "metadata": {
    "collapsed": true
   },
   "outputs": [],
   "source": [
    "def sanitize(text):\n",
    "    \n",
    "    #Get rid of escapes and digits\n",
    "    escapes = ''.join([chr(char) for char in range(1, 32)]).join(digits)\n",
    "    t = text.translate(None, escapes)\n",
    "\n",
    "    #Get rid of annoying characters not caught above\n",
    "    t = t.replace(\"\\xc2\", \"\")\n",
    "    t = t.replace(\"\\xbb\", \"\")\n",
    "    t = t.replace(\"\\xab\", \"\")\n",
    "\n",
    "    #Get rid of punctuation\n",
    "    replace_punctuation = string.maketrans(punctuation, ' '*len(string.punctuation))\n",
    "    t = t.translate(replace_punctuation)\n",
    "\n",
    "    #Add white space before capitals\n",
    "    t = re.sub(r\"(\\w)([A-Z])\", r\"\\1 \\2\", t)\n",
    "\n",
    "    #Make white spaces single character length\n",
    "    t = ' '.join(t.split())\n",
    "\n",
    "    #Get rid of single character orphans\n",
    "    t =map(lambda s: ' '.join(w for w in s.split() if len(w) > 1), t.split())\n",
    "\n",
    "    t = ' '.join(t).split()\n",
    "\n",
    "    return t"
   ]
  },
  {
   "cell_type": "code",
   "execution_count": 2,
   "metadata": {
    "collapsed": false,
    "scrolled": true
   },
   "outputs": [
    {
     "ename": "NameError",
     "evalue": "name 'text' is not defined",
     "output_type": "error",
     "traceback": [
      "\u001b[0;31m---------------------------------------------------------------------------\u001b[0m",
      "\u001b[0;31mNameError\u001b[0m                                 Traceback (most recent call last)",
      "\u001b[0;32m<ipython-input-2-bef56e36c29e>\u001b[0m in \u001b[0;36m<module>\u001b[0;34m()\u001b[0m\n\u001b[0;32m----> 1\u001b[0;31m \u001b[0msanitize\u001b[0m\u001b[0;34m(\u001b[0m\u001b[0mtext\u001b[0m\u001b[0;34m)\u001b[0m\u001b[0;34m\u001b[0m\u001b[0m\n\u001b[0m",
      "\u001b[0;31mNameError\u001b[0m: name 'text' is not defined"
     ]
    }
   ],
   "source": [
    "sanitize(text)"
   ]
  },
  {
   "cell_type": "code",
   "execution_count": 28,
   "metadata": {
    "collapsed": false
   },
   "outputs": [
    {
     "name": "stderr",
     "output_type": "stream",
     "text": [
      "/Users/hsuominen/Library/Enthought/Canopy_64bit/User/lib/python2.7/site-packages/IPython/kernel/__main__.py:6: UnicodeWarning: Unicode equal comparison failed to convert both arguments to Unicode - interpreting them as being unequal\n"
     ]
    }
   ],
   "source": [
    "#This doesn't work yet\n",
    "from nltk.corpus import stopwords\n",
    "stopwords.fileids()\n",
    "stopwords.words('danish')[0:10]\n",
    "\n",
    "filtered_words = [word for word in final if word not in stopwords.words('danish')]"
   ]
  }
 ],
 "metadata": {
  "kernelspec": {
   "display_name": "Python 3",
   "language": "python",
   "name": "python3"
  },
  "language_info": {
   "codemirror_mode": {
    "name": "ipython",
    "version": 3
   },
   "file_extension": ".py",
   "mimetype": "text/x-python",
   "name": "python",
   "nbconvert_exporter": "python",
   "pygments_lexer": "ipython3",
   "version": "3.4.3"
  }
 },
 "nbformat": 4,
 "nbformat_minor": 0
}
