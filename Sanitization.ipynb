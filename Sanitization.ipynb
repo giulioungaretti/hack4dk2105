{
 "cells": [
  {
   "cell_type": "code",
   "execution_count": 12,
   "metadata": {
    "collapsed": false
   },
   "outputs": [],
   "source": [
    "import requests\n",
    "import xml.etree.ElementTree as ET\n",
    "from string import digits\n",
    "from string import punctuation\n",
    "import string\n",
    "import re"
   ]
  },
  {
   "cell_type": "code",
   "execution_count": 2,
   "metadata": {
    "collapsed": false
   },
   "outputs": [],
   "source": [
    "url =\"http://api.larm.fm/v6/View/Get?view=Search&sort=PubStartDate%2Bdesc&filter=%28PubStartDate:[1982-05-01T00:00:00Z%20TO%201982-05-30T00:00:00Z]%20AND%20%28Type%3ASchedule%20OR%20Type%3AScheduleNote%29%29&pageIndex=0&pageSize=20&sessionGUID=049da351-b81f-424e-82c4-1162926d3688&format=json&userHTTPStatusCodes=False\""
   ]
  },
  {
   "cell_type": "code",
   "execution_count": 3,
   "metadata": {
    "collapsed": true
   },
   "outputs": [],
   "source": [
    "r = requests.get(url)"
   ]
  },
  {
   "cell_type": "code",
   "execution_count": 4,
   "metadata": {
    "collapsed": true
   },
   "outputs": [],
   "source": [
    "ids = [i['Id'] for i in  r.json()[\"ModuleResults\"][0][\"Results\"]]"
   ]
  },
  {
   "cell_type": "code",
   "execution_count": 5,
   "metadata": {
    "collapsed": false
   },
   "outputs": [],
   "source": [
    "# one id \n",
    "id = r.json()[\"ModuleResults\"][0][\"Results\"][2][\"Id\"]"
   ]
  },
  {
   "cell_type": "code",
   "execution_count": 6,
   "metadata": {
    "collapsed": false
   },
   "outputs": [],
   "source": [
    "query = \"http://api.larm.fm/v6/View/Get?view=Object&query={}&pageIndex=0&pageSize=20&sessionGUID=049da351-b81f-424e-82c4-1162926d3688&format=json&userHTTPStatusCodes=False\".format(id)"
   ]
  },
  {
   "cell_type": "code",
   "execution_count": 7,
   "metadata": {
    "collapsed": false
   },
   "outputs": [],
   "source": [
    "texts = [] \n",
    "for id in ids:\n",
    "    query = \"http://api.larm.fm/v6/View/Get?view=Object&query={}&pageIndex=0&pageSize=20&sessionGUID=049da351-b81f-424e-82c4-1162926d3688&format=json&userHTTPStatusCodes=False\".format(id)\n",
    "    r = requests.get(query)\n",
    "    metaxlm = r.json()['ModuleResults'][0][\"Results\"][0][\"Metadatas\"][0][\"MetadataXml\"].encode(encoding='UTF-8',errors='strict')\n",
    "    tree = ET.fromstring(metaxlm)\n",
    "    texts.append(tree.getchildren()[2].text)"
   ]
  },
  {
   "cell_type": "code",
   "execution_count": 8,
   "metadata": {
    "collapsed": false,
    "scrolled": false
   },
   "outputs": [],
   "source": [
    "metaxlm = r.json()['ModuleResults'][0][\"Results\"][0][\"Metadatas\"][0][\"MetadataXml\"].encode(encoding='UTF-8',errors='strict')"
   ]
  },
  {
   "cell_type": "code",
   "execution_count": 9,
   "metadata": {
    "collapsed": false
   },
   "outputs": [],
   "source": [
    "text = tree.getchildren()[2].text.encode(encoding='UTF-8',errors='strict')"
   ]
  },
  {
   "cell_type": "code",
   "execution_count": 10,
   "metadata": {
    "collapsed": true
   },
   "outputs": [],
   "source": [
    "def sanitize(text):\n",
    "    \n",
    "    #Get rid of escapes and digits\n",
    "    escapes = ''.join([chr(char) for char in range(1, 32)]).join(digits)\n",
    "    t = text.translate(None, escapes)\n",
    "\n",
    "    #Get rid of annoying characters not caught above\n",
    "    t = t.replace(\"\\xc2\", \"\")\n",
    "    t = t.replace(\"\\xbb\", \"\")\n",
    "    t = t.replace(\"\\xab\", \"\")\n",
    "\n",
    "    #Get rid of punctuation\n",
    "    replace_punctuation = string.maketrans(punctuation, ' '*len(string.punctuation))\n",
    "    t = t.translate(replace_punctuation)\n",
    "\n",
    "    #Add white space before capitals\n",
    "    t = re.sub(r\"(\\w)([A-Z])\", r\"\\1 \\2\", t)\n",
    "\n",
    "    #Make white spaces single character length\n",
    "    t = ' '.join(t.split())\n",
    "\n",
    "    #Get rid of single character orphans\n",
    "    t =map(lambda s: ' '.join(w for w in s.split() if len(w) > 1), t.split())\n",
    "\n",
    "    t = ' '.join(t).split()\n",
    "\n",
    "    return t"
   ]
  },
  {
   "cell_type": "code",
   "execution_count": 13,
   "metadata": {
    "collapsed": false,
    "scrolled": true
   },
   "outputs": [
    {
     "data": {
      "text/plain": [
       "['Program',\n",
       " 'med',\n",
       " 'AD',\n",
       " 'IO',\n",
       " 'AV',\n",
       " 'IS',\n",
       " 'hver',\n",
       " 'hele',\n",
       " 'time',\n",
       " 'ra',\n",
       " 'kl',\n",
       " 'Radioavis',\n",
       " 'usikradio',\n",
       " 'Radioavis',\n",
       " 'usikradio',\n",
       " 'Radioavis',\n",
       " 'Musikradio',\n",
       " 'Vi',\n",
       " 'bruger',\n",
       " 'ogs\\xc3\\xa5',\n",
       " 'Sendes',\n",
       " 'ogs\\xc3\\xa5',\n",
       " 'usikradio',\n",
       " 'Radioavis',\n",
       " 'Lyt',\n",
       " 'dag',\n",
       " 'News',\n",
       " 'in',\n",
       " 'English',\n",
       " 'Nachrichten',\n",
       " 'Informations',\n",
       " 'usikradio',\n",
       " 'Radioavis',\n",
       " 'Noget',\n",
       " 'for',\n",
       " 'noget',\n",
       " 'Et',\n",
       " 'musikalsk',\n",
       " '\\xc3\\xb8nskeprogrammed',\n",
       " 'meninger',\n",
       " 'itilrettelagt',\n",
       " 'af',\n",
       " 'Teddy',\n",
       " 'Petersen',\n",
       " 'Lytterautomaten',\n",
       " 'er',\n",
       " '\\xc3\\xa5bend\\xc3\\xb8gnet',\n",
       " 'rundtp\\xc3\\xa5',\n",
       " 'tlf',\n",
       " 'Adresse',\n",
       " 'Noget',\n",
       " 'for',\n",
       " 'noget',\n",
       " 'Danmarks',\n",
       " 'Radio',\n",
       " 'Odense',\n",
       " 'Ud',\n",
       " 'p\\xc3\\xa5',\n",
       " 'landetmed',\n",
       " 'Bent',\n",
       " 'Hansen',\n",
       " 'Pausegym',\n",
       " 'nastik',\n",
       " 'Genudsendelse',\n",
       " 'VA',\n",
       " 'Samspil',\n",
       " 'et',\n",
       " 'program',\n",
       " 'med',\n",
       " 'forslag',\n",
       " 'ogkommentarer',\n",
       " 'fra',\n",
       " 'lytterne',\n",
       " 'dag',\n",
       " 'Dansk',\n",
       " 'musik',\n",
       " 'pr\\xc3\\xa6senteret',\n",
       " 'af',\n",
       " 'Claus',\n",
       " 'Levinsen',\n",
       " 'Ring',\n",
       " 'til',\n",
       " 'mellemkl',\n",
       " 'og',\n",
       " 'eller',\n",
       " 'skrivtil',\n",
       " 'Samspil',\n",
       " 'postbox',\n",
       " 'K\\xc3\\xb8benhavn',\n",
       " 'R\\xc3\\xa5dhusklokkerne',\n",
       " 'Radioavis',\n",
       " 'Program',\n",
       " 'oversigt',\n",
       " 'usikradio',\n",
       " 'Uden',\n",
       " 'stop',\n",
       " 'Udspil',\n",
       " 'Send',\n",
       " 'os',\n",
       " 'Deres',\n",
       " 'forslag',\n",
       " 'til',\n",
       " 'et',\n",
       " 'minutters',\n",
       " 'grammofonprogram',\n",
       " 'Vi',\n",
       " 'v\\xc3\\xa6lger',\n",
       " 'og',\n",
       " 'De',\n",
       " 'kommenterer',\n",
       " 'Deres',\n",
       " 'pladevalg',\n",
       " 'over',\n",
       " 'telefonen',\n",
       " 'Ole',\n",
       " 'Comeliussen',\n",
       " 'Middagsmusik',\n",
       " 'Toke',\n",
       " 'Lund',\n",
       " 'Christiansen',\n",
       " 'og',\n",
       " 'Jesper',\n",
       " 'B\\xc3\\xb8je',\n",
       " 'Christensen',\n",
       " 'spiller',\n",
       " 'Johann',\n",
       " 'Mattheson',\n",
       " 'og',\n",
       " 'Grethe',\n",
       " 'Krogh',\n",
       " 'spiller',\n",
       " 'orgelpr\\xc3\\xa6ludier',\n",
       " 'at',\n",
       " 'Carl',\n",
       " 'Nielsen',\n",
       " 'Pausegymnastik',\n",
       " 'Genudsendelse',\n",
       " 'VA',\n",
       " 'studiet',\n",
       " 'Hemming',\n",
       " 'Hartmann',\n",
       " 'Petersen',\n",
       " 'Rocktime',\n",
       " 'Karsten',\n",
       " 'Vogel',\n",
       " 'Hej',\n",
       " 'Lytternes',\n",
       " 'plade\\xc3\\xb8nskeropfyldes',\n",
       " 'af',\n",
       " 'Lone',\n",
       " 'N\\xc3\\xb8rmark',\n",
       " 'Meddelelser',\n",
       " 'fra',\n",
       " 'Arbejdernes',\n",
       " 'Radio',\n",
       " 'og',\n",
       " 'Fjernsynsforbund',\n",
       " 'Erik',\n",
       " 'Kramsh\\xc3\\xb8j',\n",
       " 'Nyheder',\n",
       " 'fra',\n",
       " 'Gr\\xc3\\xb8nland',\n",
       " 'p\\xc3\\xa5',\n",
       " 'gr\\xc3\\xb8nlandsk',\n",
       " 'og',\n",
       " 'dansk',\n",
       " 'NR',\n",
       " 'Noget',\n",
       " 'for',\n",
       " 'dig',\n",
       " 'magasinet',\n",
       " 'for',\n",
       " 'de',\n",
       " 'sm\\xc3\\xa5',\n",
       " 'Billedbogen',\n",
       " 'Lindas',\n",
       " 'mor',\n",
       " 'er',\n",
       " 'buschauff\\xc3\\xb8raf',\n",
       " 'Bodil',\n",
       " 'Bredsdorff',\n",
       " 'fortalt',\n",
       " 'af',\n",
       " 'Marianne',\n",
       " 'Knorr',\n",
       " 'Bearbejdet',\n",
       " 'for',\n",
       " 'radio',\n",
       " 'og',\n",
       " 'tilrettelagt',\n",
       " 'af',\n",
       " 'Wivi',\n",
       " 'Leth',\n",
       " 'Genudsendelse',\n",
       " 'fra',\n",
       " 'formiddags',\n",
       " 'Radioavis',\n",
       " 'Programoversigt',\n",
       " 'Vi',\n",
       " 'bruger',\n",
       " 'ogs\\xc3\\xa5',\n",
       " 'Genudsendelse',\n",
       " 'fra',\n",
       " 'For',\n",
       " 'operettevenner',\n",
       " 'Stig',\n",
       " 'Mervild',\n",
       " 'B\\xc3\\xa5ndbixenhvor',\n",
       " 'lyttere',\n",
       " 'spiller',\n",
       " 'optager',\n",
       " 'og',\n",
       " 'indsenderderes',\n",
       " 'egen',\n",
       " 'musik',\n",
       " 'Bjarne',\n",
       " 'Jes',\n",
       " 'Hansen',\n",
       " 'Big',\n",
       " 'Bandtimen',\n",
       " 'Bjarne',\n",
       " 'Rostvold',\n",
       " 'pr\\xc3\\xa6sentererbig',\n",
       " 'band',\n",
       " 'nyheder',\n",
       " 'Radioavis',\n",
       " 'Sport',\n",
       " 'dag',\n",
       " 'studiet',\n",
       " 'Niels',\n",
       " 'Rothenborg',\n",
       " 'Kristen',\n",
       " 'musik',\n",
       " 'Georg',\n",
       " 'Julin',\n",
       " 'Natradio',\n",
       " 'Birger',\n",
       " 'Amtzen',\n",
       " 'Mandag',\n",
       " 'den',\n",
       " 'maj']"
      ]
     },
     "execution_count": 13,
     "metadata": {},
     "output_type": "execute_result"
    }
   ],
   "source": [
    "sanitize(text)"
   ]
  },
  {
   "cell_type": "code",
   "execution_count": 28,
   "metadata": {
    "collapsed": false
   },
   "outputs": [
    {
     "name": "stderr",
     "output_type": "stream",
     "text": [
      "/Users/hsuominen/Library/Enthought/Canopy_64bit/User/lib/python2.7/site-packages/IPython/kernel/__main__.py:6: UnicodeWarning: Unicode equal comparison failed to convert both arguments to Unicode - interpreting them as being unequal\n"
     ]
    }
   ],
   "source": [
    "#This doesn't work yet\n",
    "from nltk.corpus import stopwords\n",
    "stopwords.fileids()\n",
    "stopwords.words('danish')[0:10]\n",
    "\n",
    "filtered_words = [word for word in final if word not in stopwords.words('danish')]"
   ]
  }
 ],
 "metadata": {
  "kernelspec": {
   "display_name": "Python 2",
   "language": "python",
   "name": "python2"
  },
  "language_info": {
   "codemirror_mode": {
    "name": "ipython",
    "version": 2
   },
   "file_extension": ".py",
   "mimetype": "text/x-python",
   "name": "python",
   "nbconvert_exporter": "python",
   "pygments_lexer": "ipython2",
   "version": "2.7.6"
  }
 },
 "nbformat": 4,
 "nbformat_minor": 0
}
