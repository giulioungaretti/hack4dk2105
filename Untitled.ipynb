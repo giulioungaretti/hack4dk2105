{
 "cells": [
  {
   "cell_type": "code",
   "execution_count": 5,
   "metadata": {
    "collapsed": false
   },
   "outputs": [],
   "source": [
    "import requests"
   ]
  },
  {
   "cell_type": "code",
   "execution_count": 90,
   "metadata": {
    "collapsed": false
   },
   "outputs": [],
   "source": [
    "url =\"http://api.larm.fm/v6/View/Get?view=Search&sort=PubStartDate%2Bdesc&filter=%28PubStartDate:[1982-05-01T00:00:00Z%20TO%201982-05-30T00:00:00Z]%20AND%20%28Type%3ASchedule%20OR%20Type%3AScheduleNote%29%29&pageIndex=0&pageSize=20&sessionGUID=049da351-b81f-424e-82c4-1162926d3688&format=json&userHTTPStatusCodes=False\""
   ]
  },
  {
   "cell_type": "code",
   "execution_count": 93,
   "metadata": {
    "collapsed": true
   },
   "outputs": [],
   "source": [
    "r = requests.get(url)"
   ]
  },
  {
   "cell_type": "code",
   "execution_count": 96,
   "metadata": {
    "collapsed": true
   },
   "outputs": [],
   "source": [
    "ids = [i['Id'] for i in  r.json()[\"ModuleResults\"][0][\"Results\"]]"
   ]
  },
  {
   "cell_type": "code",
   "execution_count": 51,
   "metadata": {
    "collapsed": false
   },
   "outputs": [],
   "source": [
    "# one id \n",
    "id = r.json()[\"ModuleResults\"][0][\"Results\"][2][\"Id\"]"
   ]
  },
  {
   "cell_type": "code",
   "execution_count": 56,
   "metadata": {
    "collapsed": false
   },
   "outputs": [],
   "source": [
    "query = \"http://api.larm.fm/v6/View/Get?view=Object&query={}&pageIndex=0&pageSize=20&sessionGUID=049da351-b81f-424e-82c4-1162926d3688&format=json&userHTTPStatusCodes=False\".format(id)"
   ]
  },
  {
   "cell_type": "code",
   "execution_count": 98,
   "metadata": {
    "collapsed": true
   },
   "outputs": [],
   "source": [
    "texts = [] \n",
    "for id in ids:\n",
    "    query = \"http://api.larm.fm/v6/View/Get?view=Object&query={}&pageIndex=0&pageSize=20&sessionGUID=049da351-b81f-424e-82c4-1162926d3688&format=json&userHTTPStatusCodes=False\".format(id)\n",
    "    r = requests.get(query)\n",
    "    metaxlm = r.json()['ModuleResults'][0][\"Results\"][0][\"Metadatas\"][0][\"MetadataXml\"]\n",
    "    tree = ET.fromstring(metaxlm)\n",
    "    texts.append(tree.getchildren()[2].text)"
   ]
  },
  {
   "cell_type": "code",
   "execution_count": 73,
   "metadata": {
    "collapsed": false,
    "scrolled": false
   },
   "outputs": [],
   "source": [
    "metaxlm = r.json()['ModuleResults'][0][\"Results\"][0][\"Metadatas\"][0][\"MetadataXml\"]"
   ]
  },
  {
   "cell_type": "code",
   "execution_count": 75,
   "metadata": {
    "collapsed": false
   },
   "outputs": [],
   "source": [
    "import xml.etree.ElementTree as ET\n",
    "tree = ET.fromstring(metaxlm)"
   ]
  },
  {
   "cell_type": "code",
   "execution_count": 102,
   "metadata": {
    "collapsed": false,
    "scrolled": false
   },
   "outputs": [
    {
     "data": {
      "text/plain": [
       "['Program',\n",
       " '3\\n-',\n",
       " 'med',\n",
       " 'RADIOAVIS',\n",
       " 'hver',\n",
       " 'hele',\n",
       " 'time\\n(ra',\n",
       " 'kl.',\n",
       " '5,00-2,00.\\n5.00',\n",
       " 'Radioavis\\n5.05',\n",
       " 'M',\n",
       " 'usikradio\\n(U)\\n6.00',\n",
       " 'Radioavis\\n6.05',\n",
       " 'M',\n",
       " 'usikradio\\n(U)\\n7.00',\n",
       " 'Radioavis\\n7.10',\n",
       " 'Musikradio\\n(U)\\n7,45',\n",
       " 'Vi',\n",
       " 'bruger',\n",
       " 'også\\n(Sendes',\n",
       " 'også',\n",
       " '18,55).\\n(KS)\\n7,50',\n",
       " 'M',\n",
       " 'usikradio\\n(U)\\n8.00',\n",
       " 'Radioavis\\n8.10',\n",
       " 'Lyt',\n",
       " 'i',\n",
       " 'dag\\n(PD)\\n8,15',\n",
       " 'News',\n",
       " 'in',\n",
       " 'English\\n(NA)\\n8.20',\n",
       " 'Nachrichten\\n(NA)\\n8,25',\n",
       " 'Informations\\n(NA)\\n8.30',\n",
       " 'M',\n",
       " 'usikradio\\n(U)\\n9.00',\n",
       " 'Radioavis\\n9.05',\n",
       " 'Noget',\n",
       " 'for',\n",
       " 'noget\\nEt',\n",
       " 'musikalsk',\n",
       " 'ønskeprogram\\nmed',\n",
       " 'meninger',\n",
       " 'i\\ntilrettelagt',\n",
       " 'af',\n",
       " 'Teddy',\n",
       " 'Petersen.\\nLytterautomaten',\n",
       " 'er',\n",
       " 'åben\\ndøgnet',\n",
       " 'rundt\\npå',\n",
       " 'tlf.',\n",
       " '(09)',\n",
       " '12',\n",
       " '12',\n",
       " '08\\nAdresse:\\nNoget',\n",
       " 'for',\n",
       " 'noget\\nDanmarks',\n",
       " 'Radio\\n5100',\n",
       " 'Odense',\n",
       " 'C.\\n(P)\\n10.05',\n",
       " 'Ud',\n",
       " 'på',\n",
       " 'landet\\nmed',\n",
       " 'Bent',\n",
       " 'Hansen.\\n(P)\\n11.05',\n",
       " 'Pausegym',\n",
       " 'nastik',\n",
       " '(84)\\n(Genudsendelse).\\n(UVA)',\n",
       " '.\\n11.10',\n",
       " 'Samspil',\n",
       " '3',\n",
       " 'O\\n-',\n",
       " 'et',\n",
       " 'program',\n",
       " 'med',\n",
       " 'forslag',\n",
       " 'og\\nkommentarer',\n",
       " 'fra',\n",
       " 'lytterne,',\n",
       " 'i',\n",
       " 'dag\\nDansk',\n",
       " 'musik',\n",
       " 'præsenteret',\n",
       " 'af\\nClaus',\n",
       " 'Levinsen.\\n(Ring',\n",
       " 'til',\n",
       " '(01)',\n",
       " '13',\n",
       " '05',\n",
       " '30',\n",
       " 'mellem\\nkl.',\n",
       " '12,00',\n",
       " 'og',\n",
       " '13,00',\n",
       " 'eller',\n",
       " 'skriv\\ntil',\n",
       " '»Samspil«,',\n",
       " 'postbox',\n",
       " '444,\\n1505',\n",
       " 'København',\n",
       " 'V).\\n(M)\\n12.00',\n",
       " 'Rådhusklokkerne\\n12,02',\n",
       " 'Radioavis\\n12.20',\n",
       " 'Program',\n",
       " 'oversigt\\n(PD)\\n12.30',\n",
       " 'M',\n",
       " 'usikradio\\nUden',\n",
       " 'stop.\\n(U)\\n13.05',\n",
       " 'Udspil\\nSend',\n",
       " 'os',\n",
       " 'Deres',\n",
       " 'forslag',\n",
       " 'til',\n",
       " 'et\\n25',\n",
       " 'minutters',\n",
       " 'grammofonprogram.\\nVi',\n",
       " 'vælger',\n",
       " 'og',\n",
       " 'De',\n",
       " 'kommenterer\\nDeres',\n",
       " 'pladevalg',\n",
       " 'over',\n",
       " 'telefonen.\\nOle',\n",
       " 'Comeliussen.\\n(U)\\n13,30',\n",
       " 'Middagsmusik\\nToke',\n",
       " 'Lund',\n",
       " 'Christiansen',\n",
       " 'og\\nJesper',\n",
       " 'Bøje',\n",
       " 'Christensen',\n",
       " 'spiller\\nJohann',\n",
       " 'Mattheson',\n",
       " 'og\\nGrethe',\n",
       " 'Krogh',\n",
       " 'spiller',\n",
       " 'orgelpræludier',\n",
       " 'at\\nCarl',\n",
       " 'Nielsen.\\n(M)\\n14.05',\n",
       " 'Pausegymnastik',\n",
       " '(85)\\n(Genudsendelse).\\n(UVA)\\n14,10',\n",
       " 'I',\n",
       " 'studiet:\\nHemming',\n",
       " 'Hartmann-Petersen\\n(U)\\n15.05',\n",
       " 'Rocktime\\nKarsten',\n",
       " 'Vogel.\\n(U)\\n16.05',\n",
       " 'Hej',\n",
       " 'P3\\nLytternes',\n",
       " 'pladeønsker\\nopfyldes',\n",
       " 'af',\n",
       " 'Lone',\n",
       " 'Nørmark.\\n(U)\\n16,55',\n",
       " 'Meddelelser',\n",
       " 'fra',\n",
       " 'Arbejdernes\\nRadio-',\n",
       " 'og',\n",
       " 'Fjernsynsforbund.\\n17.05',\n",
       " 'P.S.\\nErik',\n",
       " 'Kramshøj.\\n(U)\\n18.05',\n",
       " 'Nyheder',\n",
       " 'fra',\n",
       " 'Grønland\\n-',\n",
       " 'på',\n",
       " 'grønlandsk',\n",
       " 'og',\n",
       " 'dansk.\\n(KNR)\\n18.15',\n",
       " 'Noget',\n",
       " 'for',\n",
       " 'dig\\n-',\n",
       " 'magasinet',\n",
       " 'for',\n",
       " 'de',\n",
       " 'små.\\nBilledbogen\\n»Lindas',\n",
       " 'mor',\n",
       " 'er',\n",
       " 'buschauffør«\\naf',\n",
       " 'Bodil',\n",
       " 'Bredsdorff,\\nfortalt',\n",
       " 'af',\n",
       " 'Marianne',\n",
       " 'Knorr.\\nBearbejdet',\n",
       " 'for',\n",
       " 'radio',\n",
       " 'og',\n",
       " 'tilrettelagt',\n",
       " 'af\\nWivi',\n",
       " 'Leth.\\n(Genudsendelse',\n",
       " 'fra',\n",
       " 'i',\n",
       " 'formiddags).\\n(BU)\\n18,30',\n",
       " 'Radioavis\\n18,50',\n",
       " 'Programoversigt\\n(PD)\\n18,55',\n",
       " 'Vi',\n",
       " 'bruger',\n",
       " 'også\\n(Genudsendelse',\n",
       " 'fra',\n",
       " '7,45).\\n(KS)\\n19.05',\n",
       " 'For',\n",
       " 'operettevenner\\nStig',\n",
       " 'Mervild.\\n(U)\\n20.05',\n",
       " 'Båndbixen\\nhvor',\n",
       " 'lyttere',\n",
       " 'spiller,\\noptager',\n",
       " 'og',\n",
       " 'indsender\\nderes',\n",
       " 'egen',\n",
       " 'musik.\\nBjarne',\n",
       " 'Jes',\n",
       " 'Hansen.\\n(U)\\n21.05',\n",
       " 'Big',\n",
       " 'Bandtimen\\nBjarne',\n",
       " 'Rostvold',\n",
       " 'præsenterer\\nbig-band',\n",
       " 'nyheder.\\n(U)\\n22,00',\n",
       " 'Radioavis\\n22.15',\n",
       " 'Sport',\n",
       " 'i',\n",
       " 'dag\\n(SP)\\n22,20',\n",
       " 'I',\n",
       " 'studiet:',\n",
       " 'Niels',\n",
       " 'Rothenborg\\n(U)\\n23.05',\n",
       " 'Kristen',\n",
       " 'musik\\nGeorg',\n",
       " 'Julin.\\n(U)\\n0,05-2,00',\n",
       " 'Natradio\\nBirger',\n",
       " 'Amtzen.\\n(U)\\nMandag',\n",
       " 'den',\n",
       " '24.',\n",
       " 'maj',\n",
       " '1982\\n']"
      ]
     },
     "execution_count": 102,
     "metadata": {},
     "output_type": "execute_result"
    }
   ],
   "source": [
    "tree.getchildren()[2].text.split(\" \")"
   ]
  },
  {
   "cell_type": "code",
   "execution_count": null,
   "metadata": {
    "collapsed": true
   },
   "outputs": [],
   "source": []
  }
 ],
 "metadata": {
  "kernelspec": {
   "display_name": "Python 3",
   "language": "python",
   "name": "python3"
  },
  "language_info": {
   "codemirror_mode": {
    "name": "ipython",
    "version": 3
   },
   "file_extension": ".py",
   "mimetype": "text/x-python",
   "name": "python",
   "nbconvert_exporter": "python",
   "pygments_lexer": "ipython3",
   "version": "3.4.3"
  }
 },
 "nbformat": 4,
 "nbformat_minor": 0
}
