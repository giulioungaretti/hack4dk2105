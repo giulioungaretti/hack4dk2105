{
 "cells": [
  {
   "cell_type": "code",
   "execution_count": 4,
   "metadata": {
    "collapsed": false
   },
   "outputs": [],
   "source": [
    "import requests\n",
    "import xml.etree.ElementTree as ET\n",
    "from string import digits\n",
    "from string import punctuation\n",
    "import string\n",
    "import re\n",
    "from collections import Counter\n",
    "import nltk\n",
    "from nltk.corpus import stopwords\n",
    "stop = stopwords.words('danish')\n",
    "regex = re.compile('[^a-zA-Z]')"
   ]
  },
  {
   "cell_type": "code",
   "execution_count": 14,
   "metadata": {
    "collapsed": false
   },
   "outputs": [],
   "source": [
    "pages = range(0, 100)\n",
    "years = range(1925, 1983, 1)\n",
    "months = range(1,13)\n",
    "# takes to long to use all the months just use may\n",
    "month= 6"
   ]
  },
  {
   "cell_type": "markdown",
   "metadata": {},
   "source": [
    "# get the ids of all the shows.\n",
    "# don't even think about using async request. DRs server will crash. "
   ]
  },
  {
   "cell_type": "code",
   "execution_count": null,
   "metadata": {
    "collapsed": false,
    "scrolled": false
   },
   "outputs": [
    {
     "name": "stdout",
     "output_type": "stream",
     "text": [
      "1925-01\n",
      "1926-01\n",
      "1927-01\n",
      "1928-01\n",
      "1929-01\n",
      "1930-01\n",
      "1931-01\n",
      "1932-01\n",
      "1933-01\n",
      "1934-01\n",
      "1935-01\n",
      "1936-01\n",
      "1937-01\n",
      "1938-01\n",
      "1939-01\n",
      "1940-01\n",
      "1941-01\n",
      "1942-01\n",
      "1943-01\n",
      "1944-01\n",
      "1945-01\n",
      "1946-01\n",
      "1947-01\n",
      "1948-01\n",
      "1949-01\n",
      "1950-01\n",
      "1951-01\n",
      "1952-01\n",
      "1953-01\n",
      "1954-01\n",
      "1955-01\n",
      "1956-01\n",
      "1957-01\n",
      "1958-01\n",
      "1959-01\n",
      "1960-01\n",
      "1961-01\n",
      "1962-01\n",
      "1963-01\n",
      "1964-01\n",
      "1965-01\n",
      "1966-01\n",
      "1967-01\n",
      "1968-01\n",
      "1969-01\n",
      "1970-01\n",
      "1971-01\n",
      "1972-01\n",
      "1973-01\n",
      "1974-01\n",
      "1975-01\n",
      "1976-01\n",
      "1977-01\n",
      "1978-01\n",
      "1979-01\n",
      "1980-01\n",
      "1981-01\n",
      "1982-01\n"
     ]
    }
   ],
   "source": [
    "data = {}\n",
    "for year in years:\n",
    "    ids = []\n",
    "    year_month_start = \"{0}-{1:02d}\".format(year, 1)\n",
    "    print(year_month_start)\n",
    "    year_month_end = \"{0}-{1:02d}\".format(year+1, 12)\n",
    "    for page in pages:\n",
    "        # hack my breath away\n",
    "        url =\"http://api.larm.fm/v6/View/Get?view=Search&sort=PubStartDate%2Bdesc&filter=%28PubStartDate:[{}-01T00:00:00Z%20TO%20{}-30T00:00:00Z]%20AND%20%28Type%3ASchedule%20OR%20Type%3AScheduleNote%29%29&pageIndex={}&pageSize=20&sessionGUID=049da351-b81f-424e-82c4-1162926d3688&format=json&userHTTPStatusCodes=False\".format(year_month_start, year_month_end,page)\n",
    "        r = requests.get(url)\n",
    "        if r.json()[\"ModuleResults\"][0][\"Count\"] is 0:\n",
    "            break\n",
    "        else:\n",
    "            ids_ = [i['Id'] for i in  r.json()[\"ModuleResults\"][0][\"Results\"]]\n",
    "            for id in ids_:\n",
    "                ids.append(id)\n",
    "    data[year_month_start] = ids"
   ]
  },
  {
   "cell_type": "code",
   "execution_count": null,
   "metadata": {
    "collapsed": false
   },
   "outputs": [
    {
     "name": "stdout",
     "output_type": "stream",
     "text": [
      "1950-01\n",
      "1966-01\n",
      "1961-01\n",
      "1949-01\n",
      "1938-01\n",
      "1980-01\n",
      "1926-01\n",
      "1952-01\n",
      "1964-01\n",
      "1953-01\n",
      "1958-01\n",
      "1962-01\n",
      "1933-01\n",
      "1968-01\n",
      "1972-01\n",
      "1937-01\n",
      "1935-01\n",
      "1955-01\n",
      "1925-01\n",
      "1960-01\n",
      "1978-01\n",
      "1929-01\n",
      "1941-01\n",
      "1981-01\n",
      "1944-01\n",
      "1930-01\n",
      "1945-01"
     ]
    }
   ],
   "source": [
    "data_text = {}\n",
    "for year_month in data:\n",
    "    print(year_month)\n",
    "    if len(data[year_month]) > 0 :\n",
    "        texts = [] \n",
    "        ids = data[year_month]\n",
    "        for i in ids:\n",
    "            query = \"http://api.larm.fm/v6/View/Get?view=Object&query={}&pageIndex=0&pageSize=20&sessionGUID=049da351-b81f-424e-82c4-1162926d3688&format=json&userHTTPStatusCodes=False\".format(i)\n",
    "            r = requests.get(query)\n",
    "            metaxlm = r.json()['ModuleResults'][0][\"Results\"][0][\"Metadatas\"][0][\"MetadataXml\"]\n",
    "            tree = ET.fromstring(metaxlm)\n",
    "            txt = tree.getchildren()[2].text\n",
    "            texts.append(txt)\n",
    "        data_text[year_month] = texts"
   ]
  },
  {
   "cell_type": "code",
   "execution_count": null,
   "metadata": {
    "collapsed": false
   },
   "outputs": [],
   "source": [
    "def clean(dat):\n",
    "    \"\"\"\n",
    "    remove uselsees word, spaces line break\n",
    "    \"\"\"\n",
    "    wc = []\n",
    "    words = dat.rstrip().split()\n",
    "    for w in words:\n",
    "        wc = regex.sub('',w)\n",
    "        if len(wc)>1:\n",
    "            if wc not in stop:\n",
    "                data_ym.append(wc)\n",
    "    return wc"
   ]
  },
  {
   "cell_type": "code",
   "execution_count": null,
   "metadata": {
    "collapsed": false,
    "scrolled": false
   },
   "outputs": [],
   "source": [
    "data_text_splitted = {}\n",
    "for ym in data_text:\n",
    "    print(ym)\n",
    "    data_ym = []\n",
    "    for dat in data_text[ym]:\n",
    "        words = dat.rstrip().split()\n",
    "        for w in words:\n",
    "            wc = regex.sub('',w)\n",
    "            if len(wc)>1:\n",
    "                if wc not in stop:\n",
    "                    data_ym.append(wc)\n",
    "    data_text_splitted[ym] = Counter(data_ym).most_common(1000)"
   ]
  },
  {
   "cell_type": "code",
   "execution_count": 1,
   "metadata": {
    "collapsed": true
   },
   "outputs": [],
   "source": [
    "# filename\n",
    "outfile = \"data_from_api{}\""
   ]
  },
  {
   "cell_type": "markdown",
   "metadata": {},
   "source": [
    "# save as csv"
   ]
  },
  {
   "cell_type": "code",
   "execution_count": null,
   "metadata": {
    "collapsed": false
   },
   "outputs": [],
   "source": [
    "f = open(outfile.format(\".csv\"),'w')\n",
    "for ym in data_text:\n",
    "    line = []\n",
    "    line.append(ym)\n",
    "    for word in  data_text_splitted[ym]:\n",
    "        line.append(word[0])\n",
    "        line.append(str(word[1]))\n",
    "    l = \" \".join(line)\n",
    "    f.write(l+\"\\n\")    "
   ]
  },
  {
   "cell_type": "markdown",
   "metadata": {},
   "source": [
    "# save as json\n"
   ]
  },
  {
   "cell_type": "code",
   "execution_count": null,
   "metadata": {
    "collapsed": true
   },
   "outputs": [],
   "source": [
    "with open(outfile.format(\".json\"), \"w\") as f:\n",
    "    json.dump(data_text_splitted_n, f)"
   ]
  }
 ],
 "metadata": {
  "kernelspec": {
   "display_name": "Python 3",
   "language": "python",
   "name": "python3"
  },
  "language_info": {
   "codemirror_mode": {
    "name": "ipython",
    "version": 3
   },
   "file_extension": ".py",
   "mimetype": "text/x-python",
   "name": "python",
   "nbconvert_exporter": "python",
   "pygments_lexer": "ipython3",
   "version": "3.4.3"
  }
 },
 "nbformat": 4,
 "nbformat_minor": 0
}
