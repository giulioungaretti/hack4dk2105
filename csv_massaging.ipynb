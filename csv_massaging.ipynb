{
 "cells": [
  {
   "cell_type": "code",
   "execution_count": 144,
   "metadata": {
    "collapsed": true
   },
   "outputs": [],
   "source": [
    "import pandas as pd\n",
    "import matplotlib.pyplot as plt\n",
    "%matplotlib inline"
   ]
  },
  {
   "cell_type": "code",
   "execution_count": 14,
   "metadata": {
    "collapsed": false,
    "scrolled": false
   },
   "outputs": [],
   "source": [
    "f = pd.read_csv(\"./gooddata.csv\", sep = \" \", header=None, index_col=0)"
   ]
  },
  {
   "cell_type": "code",
   "execution_count": 42,
   "metadata": {
    "collapsed": false,
    "scrolled": false
   },
   "outputs": [],
   "source": [
    "dat = {}\n",
    "for i in range(1, len(f.index)):\n",
    "    year = f.index[i]\n",
    "    line = f.ix[i]\n",
    "    datmom = [] \n",
    "    for j in range(1, len(line),2):\n",
    "        if j-1 !=0:\n",
    "            a = [(str(line[j]).lower()),line[j-1]]\n",
    "            datmom.append(a)\n",
    "            \n",
    "    dat[year] = datmom"
   ]
  },
  {
   "cell_type": "code",
   "execution_count": 98,
   "metadata": {
    "collapsed": false
   },
   "outputs": [],
   "source": [
    "all = {}\n",
    "for year in dat:\n",
    "    valz = []\n",
    "    dft = pd.DataFrame(dat[year])\n",
    "    agg = dft.groupby(0).sum()\n",
    "    agg.sort(columns=1, inplace=True,ascending=False)\n",
    "    for i in agg.iterrows():\n",
    "        valz.append([str(i[0]), int(i[1])])\n",
    "    all[year] = valz"
   ]
  },
  {
   "cell_type": "code",
   "execution_count": 101,
   "metadata": {
    "collapsed": false
   },
   "outputs": [],
   "source": [
    "f = open('penis','w')\n",
    "for ym in all:\n",
    "    line = []\n",
    "    line.append(ym)\n",
    "    for word in  all[ym]:\n",
    "        line.append(word[0])\n",
    "        line.append(str(word[1]))\n",
    "    l = \" \".join(line)\n",
    "    f.write(l+\"\\n\")    "
   ]
  },
  {
   "cell_type": "code",
   "execution_count": 54,
   "metadata": {
    "collapsed": false
   },
   "outputs": [],
   "source": [
    "dft = pd.DataFrame(dat['1953-06'])"
   ]
  },
  {
   "cell_type": "code",
   "execution_count": 87,
   "metadata": {
    "collapsed": false
   },
   "outputs": [],
   "source": [
    "agg = dft.groupby(0).sum()\n",
    "agg.sort(columns=1, inplace=True,ascending=False)"
   ]
  },
  {
   "cell_type": "code",
   "execution_count": 148,
   "metadata": {
    "collapsed": true
   },
   "outputs": [],
   "source": [
    "def get_word(counts, word):\n",
    "    global ax \n",
    "    res = {}\n",
    "    for y in counts:\n",
    "        dt = counts[y]\n",
    "        for item in dt:\n",
    "            if item[0] == word:\n",
    "                res[int(y[:4])] = int(item[1])\n",
    "    df = pd.DataFrame.from_dict(res, orient=\"index\")\n",
    "    df.sort().plot()\n",
    "    return df"
   ]
  },
  {
   "cell_type": "code",
   "execution_count": 174,
   "metadata": {
    "collapsed": false
   },
   "outputs": [
    {
     "data": {
      "image/png": "[encoded data removed]",
      "text/plain": [
       "<matplotlib.figure.Figure at 0x10ee64748>"
      ]
     },
     "metadata": {},
     "output_type": "display_data"
    }
   ],
   "source": [
    "ballet = get_word(all, \"ballet\")"
   ]
  },
  {
   "cell_type": "code",
   "execution_count": 175,
   "metadata": {
    "collapsed": true
   },
   "outputs": [],
   "source": [
    "genres = [\"ballet\", \"blues\", \"dansemusik\", \"jazz\", \"klassisk\", \"klokkespil\", \"pop\" , \"polka\"]"
   ]
  },
  {
   "cell_type": "markdown",
   "metadata": {},
   "source": [
    "# write data for processing "
   ]
  },
  {
   "cell_type": "code",
   "execution_count": 177,
   "metadata": {
    "collapsed": false
   },
   "outputs": [],
   "source": [
    "f = open('finalwords.csv','w')\n",
    "for ym in all:\n",
    "    line = []\n",
    "    line.append(ym)\n",
    "    for g in genres:\n",
    "        line.append(g)\n",
    "        line.append(str(0))\n",
    "    for word in  all[ym]:\n",
    "        if word[0] in genres:\n",
    "            line[line.index(word[0])+1] = str(word[1])      \n",
    "    l = \",\".join(line)\n",
    "    f.write(l+\"\\n\")    "
   ]
  }
 ],
 "metadata": {
  "kernelspec": {
   "display_name": "Python 3",
   "language": "python",
   "name": "python3"
  },
  "language_info": {
   "codemirror_mode": {
    "name": "ipython",
    "version": 3
   },
   "file_extension": ".py",
   "mimetype": "text/x-python",
   "name": "python",
   "nbconvert_exporter": "python",
   "pygments_lexer": "ipython3",
   "version": "3.4.3"
  }
 },
 "nbformat": 4,
 "nbformat_minor": 0
}
